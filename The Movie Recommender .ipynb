{
 "cells": [
  {
   "cell_type": "markdown",
   "metadata": {},
   "source": [
    "# The Movie Recommender"
   ]
  },
  {
   "cell_type": "markdown",
   "metadata": {},
   "source": [
    "## Packages"
   ]
  },
  {
   "cell_type": "code",
   "execution_count": 1,
   "metadata": {},
   "outputs": [],
   "source": [
    "# libraries\n",
    "import pandas as pd\n",
    "# To ignore warning\n",
    "import warnings\n",
    "warnings.filterwarnings(\"ignore\", category=FutureWarning)\n",
    "# Data\n",
    "rawdata = pd.read_csv('movies_metadata.csv',low_memory=False)"
   ]
  },
  {
   "cell_type": "markdown",
   "metadata": {},
   "source": [
    "## View Data Set"
   ]
  },
  {
   "cell_type": "code",
   "execution_count": 57,
   "metadata": {},
   "outputs": [
    {
     "name": "stdout",
     "output_type": "stream",
     "text": [
      " There are 45466 rows and 24 columns.\n"
     ]
    }
   ],
   "source": [
    "# Dimension of data frame\n",
    "rawdata.shape\n",
    "# Create a copy (standard practice)\n",
    "data = rawdata.copy()\n",
    "print(f\" There are {data.shape[0]} rows and {data.shape[1]} columns.\")\n",
    "# data.head()"
   ]
  },
  {
   "cell_type": "code",
   "execution_count": 58,
   "metadata": {},
   "outputs": [],
   "source": [
    "# Correct the columns names & data str format\n",
    "## Uppercase & replace('_', '')\n",
    "data.columns = data.columns.str.capitalize()\n",
    "data.columns = [str.replace('_',' ') for str in data.columns]\n",
    "# data.head()"
   ]
  },
  {
   "cell_type": "code",
   "execution_count": 5,
   "metadata": {},
   "outputs": [
    {
     "name": "stdout",
     "output_type": "stream",
     "text": [
      "<class 'pandas.core.frame.DataFrame'>\n",
      "RangeIndex: 45466 entries, 0 to 45465\n",
      "Data columns (total 24 columns):\n",
      " #   Column                 Non-Null Count  Dtype  \n",
      "---  ------                 --------------  -----  \n",
      " 0   Adult                  45466 non-null  object \n",
      " 1   Belongs to collection  4494 non-null   object \n",
      " 2   Budget                 45466 non-null  object \n",
      " 3   Genres                 45466 non-null  object \n",
      " 4   Homepage               7782 non-null   object \n",
      " 5   Id                     45466 non-null  object \n",
      " 6   Imdb id                45449 non-null  object \n",
      " 7   Original language      45455 non-null  object \n",
      " 8   Original title         45466 non-null  object \n",
      " 9   Overview               44512 non-null  object \n",
      " 10  Popularity             45461 non-null  object \n",
      " 11  Poster path            45080 non-null  object \n",
      " 12  Production companies   45463 non-null  object \n",
      " 13  Production countries   45463 non-null  object \n",
      " 14  Release date           45379 non-null  object \n",
      " 15  Revenue                45460 non-null  float64\n",
      " 16  Runtime                45203 non-null  float64\n",
      " 17  Spoken languages       45460 non-null  object \n",
      " 18  Status                 45379 non-null  object \n",
      " 19  Tagline                20412 non-null  object \n",
      " 20  Title                  45460 non-null  object \n",
      " 21  Video                  45460 non-null  object \n",
      " 22  Vote average           45460 non-null  float64\n",
      " 23  Vote count             45460 non-null  float64\n",
      "dtypes: float64(4), object(20)\n",
      "memory usage: 8.3+ MB\n"
     ]
    }
   ],
   "source": [
    "data.info()"
   ]
  },
  {
   "cell_type": "code",
   "execution_count": 6,
   "metadata": {},
   "outputs": [
    {
     "name": "stdout",
     "output_type": "stream",
     "text": [
      "Total count of missing value by columns\n",
      "\n",
      "Belongs to collection 40972\n",
      "Homepage 37684\n",
      "Imdb id 17\n",
      "Original language 11\n",
      "Overview 954\n",
      "Popularity 5\n",
      "Poster path 386\n",
      "Production companies 3\n",
      "Production countries 3\n",
      "Release date 87\n",
      "Revenue 6\n",
      "Runtime 263\n",
      "Spoken languages 6\n",
      "Status 87\n",
      "Tagline 25054\n",
      "Title 6\n",
      "Video 6\n",
      "Vote average 6\n",
      "Vote count 6\n"
     ]
    }
   ],
   "source": [
    "# To find total null value by columns\n",
    "print('Total count of missing value by columns')\n",
    "print()\n",
    "for column in data.columns:\n",
    "    if data[column].isnull().any():\n",
    "        print (f\"{column}\", data[column].isnull().sum()) "
   ]
  },
  {
   "cell_type": "code",
   "execution_count": 7,
   "metadata": {},
   "outputs": [],
   "source": [
    "# Drop all null value selected feature\n",
    "data_dropnull = data.dropna(subset = ['Title','Vote average','Vote count'])"
   ]
  },
  {
   "cell_type": "code",
   "execution_count": 8,
   "metadata": {},
   "outputs": [
    {
     "data": {
      "text/html": [
       "<div>\n",
       "<style scoped>\n",
       "    .dataframe tbody tr th:only-of-type {\n",
       "        vertical-align: middle;\n",
       "    }\n",
       "\n",
       "    .dataframe tbody tr th {\n",
       "        vertical-align: top;\n",
       "    }\n",
       "\n",
       "    .dataframe thead th {\n",
       "        text-align: right;\n",
       "    }\n",
       "</style>\n",
       "<table border=\"1\" class=\"dataframe\">\n",
       "  <thead>\n",
       "    <tr style=\"text-align: right;\">\n",
       "      <th></th>\n",
       "      <th>Revenue</th>\n",
       "      <th>Runtime</th>\n",
       "      <th>Vote average</th>\n",
       "      <th>Vote count</th>\n",
       "    </tr>\n",
       "  </thead>\n",
       "  <tbody>\n",
       "    <tr>\n",
       "      <th>count</th>\n",
       "      <td>4.546000e+04</td>\n",
       "      <td>45203.000000</td>\n",
       "      <td>45460.000000</td>\n",
       "      <td>45460.000000</td>\n",
       "    </tr>\n",
       "    <tr>\n",
       "      <th>mean</th>\n",
       "      <td>1.120935e+07</td>\n",
       "      <td>94.128199</td>\n",
       "      <td>5.618207</td>\n",
       "      <td>109.897338</td>\n",
       "    </tr>\n",
       "    <tr>\n",
       "      <th>std</th>\n",
       "      <td>6.433225e+07</td>\n",
       "      <td>38.407810</td>\n",
       "      <td>1.924216</td>\n",
       "      <td>491.310374</td>\n",
       "    </tr>\n",
       "    <tr>\n",
       "      <th>min</th>\n",
       "      <td>0.000000e+00</td>\n",
       "      <td>0.000000</td>\n",
       "      <td>0.000000</td>\n",
       "      <td>0.000000</td>\n",
       "    </tr>\n",
       "    <tr>\n",
       "      <th>25%</th>\n",
       "      <td>0.000000e+00</td>\n",
       "      <td>85.000000</td>\n",
       "      <td>5.000000</td>\n",
       "      <td>3.000000</td>\n",
       "    </tr>\n",
       "    <tr>\n",
       "      <th>50%</th>\n",
       "      <td>0.000000e+00</td>\n",
       "      <td>95.000000</td>\n",
       "      <td>6.000000</td>\n",
       "      <td>10.000000</td>\n",
       "    </tr>\n",
       "    <tr>\n",
       "      <th>75%</th>\n",
       "      <td>0.000000e+00</td>\n",
       "      <td>107.000000</td>\n",
       "      <td>6.800000</td>\n",
       "      <td>34.000000</td>\n",
       "    </tr>\n",
       "    <tr>\n",
       "      <th>max</th>\n",
       "      <td>2.787965e+09</td>\n",
       "      <td>1256.000000</td>\n",
       "      <td>10.000000</td>\n",
       "      <td>14075.000000</td>\n",
       "    </tr>\n",
       "  </tbody>\n",
       "</table>\n",
       "</div>"
      ],
      "text/plain": [
       "            Revenue       Runtime  Vote average    Vote count\n",
       "count  4.546000e+04  45203.000000  45460.000000  45460.000000\n",
       "mean   1.120935e+07     94.128199      5.618207    109.897338\n",
       "std    6.433225e+07     38.407810      1.924216    491.310374\n",
       "min    0.000000e+00      0.000000      0.000000      0.000000\n",
       "25%    0.000000e+00     85.000000      5.000000      3.000000\n",
       "50%    0.000000e+00     95.000000      6.000000     10.000000\n",
       "75%    0.000000e+00    107.000000      6.800000     34.000000\n",
       "max    2.787965e+09   1256.000000     10.000000  14075.000000"
      ]
     },
     "execution_count": 8,
     "metadata": {},
     "output_type": "execute_result"
    }
   ],
   "source": [
    "data_dropnull.describe()"
   ]
  },
  {
   "cell_type": "markdown",
   "metadata": {},
   "source": [
    "## Check Outliers"
   ]
  },
  {
   "cell_type": "code",
   "execution_count": 53,
   "metadata": {},
   "outputs": [
    {
     "data": {
      "image/png": "[encoded data removed]",
      "text/plain": [
       "<Figure size 432x288 with 1 Axes>"
      ]
     },
     "metadata": {
      "needs_background": "light"
     },
     "output_type": "display_data"
    }
   ],
   "source": [
    "# Check outlier using boxplot\n",
    "cols=['Vote average','Vote count']\n",
    "data_dropnull.boxplot(column=cols);"
   ]
  },
  {
   "cell_type": "code",
   "execution_count": 10,
   "metadata": {},
   "outputs": [
    {
     "data": {
      "text/plain": [
       "2183.8199999999924"
      ]
     },
     "execution_count": 10,
     "metadata": {},
     "output_type": "execute_result"
    }
   ],
   "source": [
    "vc_top1p = data_dropnull['Vote count'].quantile(0.99) # Top 1% Outlier Rows of UniqueSubs\n",
    "vc_top1p"
   ]
  },
  {
   "cell_type": "code",
   "execution_count": 11,
   "metadata": {},
   "outputs": [],
   "source": [
    "#Remove top 1% outliers from the above mentioned two columns and plot the box plot again\n",
    "data_nonull_remove_outlier = data_dropnull[~((data_dropnull['Vote count']>(vc_top1p)))] # Remove top 1% outliers"
   ]
  },
  {
   "cell_type": "code",
   "execution_count": 12,
   "metadata": {},
   "outputs": [
    {
     "data": {
      "image/png": "[encoded data removed]",
      "text/plain": [
       "<Figure size 432x288 with 1 Axes>"
      ]
     },
     "metadata": {
      "needs_background": "light"
     },
     "output_type": "display_data"
    }
   ],
   "source": [
    "cols=['Vote average','Vote count'] # Initialize the column features\n",
    "# plot box plot using pandas for columns \"Vote average\" and \"Vote count\"\n",
    "data_nonull_remove_outlier.boxplot(column=cols); "
   ]
  },
  {
   "cell_type": "code",
   "execution_count": 13,
   "metadata": {},
   "outputs": [
    {
     "data": {
      "text/html": [
       "<div>\n",
       "<style scoped>\n",
       "    .dataframe tbody tr th:only-of-type {\n",
       "        vertical-align: middle;\n",
       "    }\n",
       "\n",
       "    .dataframe tbody tr th {\n",
       "        vertical-align: top;\n",
       "    }\n",
       "\n",
       "    .dataframe thead th {\n",
       "        text-align: right;\n",
       "    }\n",
       "</style>\n",
       "<table border=\"1\" class=\"dataframe\">\n",
       "  <thead>\n",
       "    <tr style=\"text-align: right;\">\n",
       "      <th></th>\n",
       "      <th>Revenue</th>\n",
       "      <th>Runtime</th>\n",
       "      <th>Vote average</th>\n",
       "      <th>Vote count</th>\n",
       "    </tr>\n",
       "  </thead>\n",
       "  <tbody>\n",
       "    <tr>\n",
       "      <th>count</th>\n",
       "      <td>4.500500e+04</td>\n",
       "      <td>44748.000000</td>\n",
       "      <td>45005.000000</td>\n",
       "      <td>45005.000000</td>\n",
       "    </tr>\n",
       "    <tr>\n",
       "      <th>mean</th>\n",
       "      <td>6.922275e+06</td>\n",
       "      <td>93.848105</td>\n",
       "      <td>5.604280</td>\n",
       "      <td>69.677702</td>\n",
       "    </tr>\n",
       "    <tr>\n",
       "      <th>std</th>\n",
       "      <td>3.387987e+07</td>\n",
       "      <td>38.439905</td>\n",
       "      <td>1.927387</td>\n",
       "      <td>213.039860</td>\n",
       "    </tr>\n",
       "    <tr>\n",
       "      <th>min</th>\n",
       "      <td>0.000000e+00</td>\n",
       "      <td>0.000000</td>\n",
       "      <td>0.000000</td>\n",
       "      <td>0.000000</td>\n",
       "    </tr>\n",
       "    <tr>\n",
       "      <th>25%</th>\n",
       "      <td>0.000000e+00</td>\n",
       "      <td>85.000000</td>\n",
       "      <td>5.000000</td>\n",
       "      <td>3.000000</td>\n",
       "    </tr>\n",
       "    <tr>\n",
       "      <th>50%</th>\n",
       "      <td>0.000000e+00</td>\n",
       "      <td>94.000000</td>\n",
       "      <td>6.000000</td>\n",
       "      <td>9.000000</td>\n",
       "    </tr>\n",
       "    <tr>\n",
       "      <th>75%</th>\n",
       "      <td>0.000000e+00</td>\n",
       "      <td>106.000000</td>\n",
       "      <td>6.800000</td>\n",
       "      <td>33.000000</td>\n",
       "    </tr>\n",
       "    <tr>\n",
       "      <th>max</th>\n",
       "      <td>1.020063e+09</td>\n",
       "      <td>1256.000000</td>\n",
       "      <td>10.000000</td>\n",
       "      <td>2183.000000</td>\n",
       "    </tr>\n",
       "  </tbody>\n",
       "</table>\n",
       "</div>"
      ],
      "text/plain": [
       "            Revenue       Runtime  Vote average    Vote count\n",
       "count  4.500500e+04  44748.000000  45005.000000  45005.000000\n",
       "mean   6.922275e+06     93.848105      5.604280     69.677702\n",
       "std    3.387987e+07     38.439905      1.927387    213.039860\n",
       "min    0.000000e+00      0.000000      0.000000      0.000000\n",
       "25%    0.000000e+00     85.000000      5.000000      3.000000\n",
       "50%    0.000000e+00     94.000000      6.000000      9.000000\n",
       "75%    0.000000e+00    106.000000      6.800000     33.000000\n",
       "max    1.020063e+09   1256.000000     10.000000   2183.000000"
      ]
     },
     "execution_count": 13,
     "metadata": {},
     "output_type": "execute_result"
    }
   ],
   "source": [
    "data_nonull_remove_outlier.describe() # View summary of dataset numerical variables"
   ]
  },
  {
   "cell_type": "markdown",
   "metadata": {},
   "source": [
    "## Weighted Rating ( Bayes Estimator)\n",
    "Calculation based on the IMDB formula \n",
    "\n",
    "WeightedRating(WR)=(voters/(voters+minimumvote)*avg_vote) + (minimumvote/(minimumvote+voters)* meanvote)"
   ]
  },
  {
   "cell_type": "code",
   "execution_count": 54,
   "metadata": {},
   "outputs": [
    {
     "data": {
      "text/plain": [
       "5.604279524496983"
      ]
     },
     "execution_count": 54,
     "metadata": {},
     "output_type": "execute_result"
    }
   ],
   "source": [
    "# To find mean vote\n",
    "meanvote = data_nonull_remove_outlier['Vote average'].mean()\n",
    "meanvote"
   ]
  },
  {
   "cell_type": "code",
   "execution_count": 55,
   "metadata": {},
   "outputs": [
    {
     "data": {
      "text/plain": [
       "140.0"
      ]
     },
     "execution_count": 55,
     "metadata": {},
     "output_type": "execute_result"
    }
   ],
   "source": [
    "# To find minimum vote\n",
    "minimumvote = data_nonull_remove_outlier['Vote count'].quantile(0.90)\n",
    "minimumvote"
   ]
  },
  {
   "cell_type": "code",
   "execution_count": 43,
   "metadata": {},
   "outputs": [],
   "source": [
    "# Weighted rating call function\n",
    "def weighted_rating(x, minimumvote=minimumvote, meanvote=meanvote):\n",
    "    voters = x['Vote count']\n",
    "    avg_vote = x['Vote average']\n",
    "    return (voters/(voters+minimumvote)*avg_vote) + (minimumvote/(minimumvote+voters)* meanvote)"
   ]
  },
  {
   "cell_type": "code",
   "execution_count": 42,
   "metadata": {},
   "outputs": [
    {
     "data": {
      "text/plain": [
       "(4502, 25)"
      ]
     },
     "execution_count": 42,
     "metadata": {},
     "output_type": "execute_result"
    }
   ],
   "source": [
    "# Extract & copy data with minimumvote movie data\n",
    "movie_data = data_nonull_remove_outlier.copy().loc[data_nonull_remove_outlier['Vote count'] >= minimumvote]\n",
    "movie_data.shape"
   ]
  },
  {
   "cell_type": "code",
   "execution_count": 47,
   "metadata": {},
   "outputs": [],
   "source": [
    "# Adding new feature score' with `weighted_rating\n",
    "movie_data['Score'] = movie_data.apply(weighted_rating, axis=1)"
   ]
  },
  {
   "cell_type": "code",
   "execution_count": 56,
   "metadata": {},
   "outputs": [
    {
     "data": {
      "text/html": [
       "<div>\n",
       "<style scoped>\n",
       "    .dataframe tbody tr th:only-of-type {\n",
       "        vertical-align: middle;\n",
       "    }\n",
       "\n",
       "    .dataframe tbody tr th {\n",
       "        vertical-align: top;\n",
       "    }\n",
       "\n",
       "    .dataframe thead th {\n",
       "        text-align: right;\n",
       "    }\n",
       "</style>\n",
       "<table border=\"1\" class=\"dataframe\">\n",
       "  <thead>\n",
       "    <tr style=\"text-align: right;\">\n",
       "      <th></th>\n",
       "      <th>Title</th>\n",
       "      <th>Vote count</th>\n",
       "      <th>Vote average</th>\n",
       "      <th>Score</th>\n",
       "    </tr>\n",
       "  </thead>\n",
       "  <tbody>\n",
       "    <tr>\n",
       "      <th>10309</th>\n",
       "      <td>Dilwale Dulhania Le Jayenge</td>\n",
       "      <td>661.0</td>\n",
       "      <td>9.1</td>\n",
       "      <td>8.489013</td>\n",
       "    </tr>\n",
       "    <tr>\n",
       "      <th>40251</th>\n",
       "      <td>Your Name.</td>\n",
       "      <td>1030.0</td>\n",
       "      <td>8.5</td>\n",
       "      <td>8.153504</td>\n",
       "    </tr>\n",
       "    <tr>\n",
       "      <th>1161</th>\n",
       "      <td>12 Angry Men</td>\n",
       "      <td>2130.0</td>\n",
       "      <td>8.2</td>\n",
       "      <td>8.039912</td>\n",
       "    </tr>\n",
       "    <tr>\n",
       "      <th>9698</th>\n",
       "      <td>Howl's Moving Castle</td>\n",
       "      <td>2049.0</td>\n",
       "      <td>8.2</td>\n",
       "      <td>8.033988</td>\n",
       "    </tr>\n",
       "    <tr>\n",
       "      <th>2884</th>\n",
       "      <td>Princess Mononoke</td>\n",
       "      <td>2041.0</td>\n",
       "      <td>8.2</td>\n",
       "      <td>8.033379</td>\n",
       "    </tr>\n",
       "    <tr>\n",
       "      <th>5878</th>\n",
       "      <td>City of God</td>\n",
       "      <td>1852.0</td>\n",
       "      <td>8.2</td>\n",
       "      <td>8.017570</td>\n",
       "    </tr>\n",
       "    <tr>\n",
       "      <th>1184</th>\n",
       "      <td>Once Upon a Time in America</td>\n",
       "      <td>1104.0</td>\n",
       "      <td>8.3</td>\n",
       "      <td>7.996623</td>\n",
       "    </tr>\n",
       "    <tr>\n",
       "      <th>877</th>\n",
       "      <td>Rear Window</td>\n",
       "      <td>1531.0</td>\n",
       "      <td>8.2</td>\n",
       "      <td>7.982525</td>\n",
       "    </tr>\n",
       "    <tr>\n",
       "      <th>5857</th>\n",
       "      <td>The Pianist</td>\n",
       "      <td>1927.0</td>\n",
       "      <td>8.1</td>\n",
       "      <td>7.930962</td>\n",
       "    </tr>\n",
       "    <tr>\n",
       "      <th>5553</th>\n",
       "      <td>Grave of the Fireflies</td>\n",
       "      <td>974.0</td>\n",
       "      <td>8.2</td>\n",
       "      <td>7.873787</td>\n",
       "    </tr>\n",
       "    <tr>\n",
       "      <th>1165</th>\n",
       "      <td>Apocalypse Now</td>\n",
       "      <td>2112.0</td>\n",
       "      <td>8.0</td>\n",
       "      <td>7.851065</td>\n",
       "    </tr>\n",
       "    <tr>\n",
       "      <th>1910</th>\n",
       "      <td>Seven Samurai</td>\n",
       "      <td>892.0</td>\n",
       "      <td>8.2</td>\n",
       "      <td>7.847867</td>\n",
       "    </tr>\n",
       "    <tr>\n",
       "      <th>9430</th>\n",
       "      <td>Oldboy</td>\n",
       "      <td>2000.0</td>\n",
       "      <td>8.0</td>\n",
       "      <td>7.843271</td>\n",
       "    </tr>\n",
       "    <tr>\n",
       "      <th>1166</th>\n",
       "      <td>Once Upon a Time in the West</td>\n",
       "      <td>1160.0</td>\n",
       "      <td>8.1</td>\n",
       "      <td>7.831230</td>\n",
       "    </tr>\n",
       "    <tr>\n",
       "      <th>1132</th>\n",
       "      <td>Cinema Paradiso</td>\n",
       "      <td>834.0</td>\n",
       "      <td>8.2</td>\n",
       "      <td>7.826898</td>\n",
       "    </tr>\n",
       "    <tr>\n",
       "      <th>5833</th>\n",
       "      <td>My Neighbor Totoro</td>\n",
       "      <td>1730.0</td>\n",
       "      <td>8.0</td>\n",
       "      <td>7.820641</td>\n",
       "    </tr>\n",
       "    <tr>\n",
       "      <th>41128</th>\n",
       "      <td>Lion</td>\n",
       "      <td>1699.0</td>\n",
       "      <td>8.0</td>\n",
       "      <td>7.817618</td>\n",
       "    </tr>\n",
       "    <tr>\n",
       "      <th>732</th>\n",
       "      <td>Dr. Strangelove or: How I Learned to Stop Worr...</td>\n",
       "      <td>1472.0</td>\n",
       "      <td>8.0</td>\n",
       "      <td>7.791935</td>\n",
       "    </tr>\n",
       "    <tr>\n",
       "      <th>25465</th>\n",
       "      <td>Mommy</td>\n",
       "      <td>734.0</td>\n",
       "      <td>8.2</td>\n",
       "      <td>7.784210</td>\n",
       "    </tr>\n",
       "    <tr>\n",
       "      <th>43190</th>\n",
       "      <td>Band of Brothers</td>\n",
       "      <td>725.0</td>\n",
       "      <td>8.2</td>\n",
       "      <td>7.779883</td>\n",
       "    </tr>\n",
       "  </tbody>\n",
       "</table>\n",
       "</div>"
      ],
      "text/plain": [
       "                                                   Title  Vote count  \\\n",
       "10309                        Dilwale Dulhania Le Jayenge       661.0   \n",
       "40251                                         Your Name.      1030.0   \n",
       "1161                                        12 Angry Men      2130.0   \n",
       "9698                                Howl's Moving Castle      2049.0   \n",
       "2884                                   Princess Mononoke      2041.0   \n",
       "5878                                         City of God      1852.0   \n",
       "1184                         Once Upon a Time in America      1104.0   \n",
       "877                                          Rear Window      1531.0   \n",
       "5857                                         The Pianist      1927.0   \n",
       "5553                              Grave of the Fireflies       974.0   \n",
       "1165                                      Apocalypse Now      2112.0   \n",
       "1910                                       Seven Samurai       892.0   \n",
       "9430                                              Oldboy      2000.0   \n",
       "1166                        Once Upon a Time in the West      1160.0   \n",
       "1132                                     Cinema Paradiso       834.0   \n",
       "5833                                  My Neighbor Totoro      1730.0   \n",
       "41128                                               Lion      1699.0   \n",
       "732    Dr. Strangelove or: How I Learned to Stop Worr...      1472.0   \n",
       "25465                                              Mommy       734.0   \n",
       "43190                                   Band of Brothers       725.0   \n",
       "\n",
       "       Vote average     Score  \n",
       "10309           9.1  8.489013  \n",
       "40251           8.5  8.153504  \n",
       "1161            8.2  8.039912  \n",
       "9698            8.2  8.033988  \n",
       "2884            8.2  8.033379  \n",
       "5878            8.2  8.017570  \n",
       "1184            8.3  7.996623  \n",
       "877             8.2  7.982525  \n",
       "5857            8.1  7.930962  \n",
       "5553            8.2  7.873787  \n",
       "1165            8.0  7.851065  \n",
       "1910            8.2  7.847867  \n",
       "9430            8.0  7.843271  \n",
       "1166            8.1  7.831230  \n",
       "1132            8.2  7.826898  \n",
       "5833            8.0  7.820641  \n",
       "41128           8.0  7.817618  \n",
       "732             8.0  7.791935  \n",
       "25465           8.2  7.784210  \n",
       "43190           8.2  7.779883  "
      ]
     },
     "execution_count": 56,
     "metadata": {},
     "output_type": "execute_result"
    }
   ],
   "source": [
    "# Present Score in aascending order\n",
    "movie_data = movie_data.sort_values('Score', ascending=False)\n",
    "movie_data[['Title','Vote count','Vote average','Score']].head(20)"
   ]
  },
  {
   "cell_type": "markdown",
   "metadata": {},
   "source": [
    "- With the result of removing the outlier the score is slightly lower compare to the Vote average. \n",
    "- It is warant to run the score again witout removing the outliers.\n"
   ]
  },
  {
   "cell_type": "markdown",
   "metadata": {},
   "source": [
    "##  Weighted Rating ( Bayes Estimator) - Include Outlier "
   ]
  },
  {
   "cell_type": "code",
   "execution_count": 21,
   "metadata": {},
   "outputs": [
    {
     "data": {
      "text/plain": [
       "160.0"
      ]
     },
     "execution_count": 21,
     "metadata": {},
     "output_type": "execute_result"
    }
   ],
   "source": [
    "minimumvote1 = data_dropnull['Vote count'].quantile(0.90)\n",
    "minimumvote1"
   ]
  },
  {
   "cell_type": "code",
   "execution_count": 22,
   "metadata": {},
   "outputs": [
    {
     "data": {
      "text/plain": [
       "5.618207215133889"
      ]
     },
     "execution_count": 22,
     "metadata": {},
     "output_type": "execute_result"
    }
   ],
   "source": [
    "meanvote1 = data_dropnull['Vote average'].mean()\n",
    "meanvote1"
   ]
  },
  {
   "cell_type": "code",
   "execution_count": 23,
   "metadata": {},
   "outputs": [
    {
     "data": {
      "text/plain": [
       "(4555, 24)"
      ]
     },
     "execution_count": 23,
     "metadata": {},
     "output_type": "execute_result"
    }
   ],
   "source": [
    "# Extract & copy data with minimumvote movie data\n",
    "movie_data1 = data_dropnull.copy().loc[data_dropnull['Vote count'] >= minimumvote1]\n",
    "movie_data1.shape"
   ]
  },
  {
   "cell_type": "code",
   "execution_count": 24,
   "metadata": {},
   "outputs": [],
   "source": [
    "def weighted_rating(x, minimumvote1=minimumvote1, meanvote1=meanvote1):\n",
    "    voters = x['Vote count']\n",
    "    avg_vote = x['Vote average']\n",
    "    return (voters/(voters+minimumvote1)*avg_vote) + (minimumvote1/(minimumvote1+voters)* meanvote)"
   ]
  },
  {
   "cell_type": "code",
   "execution_count": 29,
   "metadata": {},
   "outputs": [],
   "source": [
    "# Adding new feature score' with `weighted_rating\n",
    "movie_data1['Score'] = movie_data1.apply(weighted_rating, axis=1)"
   ]
  },
  {
   "cell_type": "code",
   "execution_count": 52,
   "metadata": {},
   "outputs": [
    {
     "data": {
      "text/html": [
       "<div>\n",
       "<style scoped>\n",
       "    .dataframe tbody tr th:only-of-type {\n",
       "        vertical-align: middle;\n",
       "    }\n",
       "\n",
       "    .dataframe tbody tr th {\n",
       "        vertical-align: top;\n",
       "    }\n",
       "\n",
       "    .dataframe thead th {\n",
       "        text-align: right;\n",
       "    }\n",
       "</style>\n",
       "<table border=\"1\" class=\"dataframe\">\n",
       "  <thead>\n",
       "    <tr style=\"text-align: right;\">\n",
       "      <th></th>\n",
       "      <th>Title</th>\n",
       "      <th>Vote count</th>\n",
       "      <th>Vote average</th>\n",
       "      <th>Score</th>\n",
       "    </tr>\n",
       "  </thead>\n",
       "  <tbody>\n",
       "    <tr>\n",
       "      <th>314</th>\n",
       "      <td>The Shawshank Redemption</td>\n",
       "      <td>8358.0</td>\n",
       "      <td>8.5</td>\n",
       "      <td>8.445608</td>\n",
       "    </tr>\n",
       "    <tr>\n",
       "      <th>834</th>\n",
       "      <td>The Godfather</td>\n",
       "      <td>6024.0</td>\n",
       "      <td>8.5</td>\n",
       "      <td>8.425078</td>\n",
       "    </tr>\n",
       "    <tr>\n",
       "      <th>10309</th>\n",
       "      <td>Dilwale Dulhania Le Jayenge</td>\n",
       "      <td>661.0</td>\n",
       "      <td>9.1</td>\n",
       "      <td>8.418739</td>\n",
       "    </tr>\n",
       "    <tr>\n",
       "      <th>12481</th>\n",
       "      <td>The Dark Knight</td>\n",
       "      <td>12269.0</td>\n",
       "      <td>8.3</td>\n",
       "      <td>8.265298</td>\n",
       "    </tr>\n",
       "    <tr>\n",
       "      <th>2843</th>\n",
       "      <td>Fight Club</td>\n",
       "      <td>9678.0</td>\n",
       "      <td>8.3</td>\n",
       "      <td>8.256158</td>\n",
       "    </tr>\n",
       "    <tr>\n",
       "      <th>292</th>\n",
       "      <td>Pulp Fiction</td>\n",
       "      <td>8670.0</td>\n",
       "      <td>8.3</td>\n",
       "      <td>8.251153</td>\n",
       "    </tr>\n",
       "    <tr>\n",
       "      <th>522</th>\n",
       "      <td>Schindler's List</td>\n",
       "      <td>4436.0</td>\n",
       "      <td>8.3</td>\n",
       "      <td>8.206154</td>\n",
       "    </tr>\n",
       "    <tr>\n",
       "      <th>23673</th>\n",
       "      <td>Whiplash</td>\n",
       "      <td>4376.0</td>\n",
       "      <td>8.3</td>\n",
       "      <td>8.204913</td>\n",
       "    </tr>\n",
       "    <tr>\n",
       "      <th>5481</th>\n",
       "      <td>Spirited Away</td>\n",
       "      <td>3968.0</td>\n",
       "      <td>8.3</td>\n",
       "      <td>8.195515</td>\n",
       "    </tr>\n",
       "    <tr>\n",
       "      <th>2211</th>\n",
       "      <td>Life Is Beautiful</td>\n",
       "      <td>3643.0</td>\n",
       "      <td>8.3</td>\n",
       "      <td>8.186586</td>\n",
       "    </tr>\n",
       "    <tr>\n",
       "      <th>1178</th>\n",
       "      <td>The Godfather: Part II</td>\n",
       "      <td>3418.0</td>\n",
       "      <td>8.3</td>\n",
       "      <td>8.179454</td>\n",
       "    </tr>\n",
       "    <tr>\n",
       "      <th>1152</th>\n",
       "      <td>One Flew Over the Cuckoo's Nest</td>\n",
       "      <td>3001.0</td>\n",
       "      <td>8.3</td>\n",
       "      <td>8.163551</td>\n",
       "    </tr>\n",
       "    <tr>\n",
       "      <th>351</th>\n",
       "      <td>Forrest Gump</td>\n",
       "      <td>8147.0</td>\n",
       "      <td>8.2</td>\n",
       "      <td>8.150004</td>\n",
       "    </tr>\n",
       "    <tr>\n",
       "      <th>1154</th>\n",
       "      <td>The Empire Strikes Back</td>\n",
       "      <td>5998.0</td>\n",
       "      <td>8.2</td>\n",
       "      <td>8.132557</td>\n",
       "    </tr>\n",
       "    <tr>\n",
       "      <th>1176</th>\n",
       "      <td>Psycho</td>\n",
       "      <td>2405.0</td>\n",
       "      <td>8.3</td>\n",
       "      <td>8.131846</td>\n",
       "    </tr>\n",
       "    <tr>\n",
       "      <th>18465</th>\n",
       "      <td>The Intouchables</td>\n",
       "      <td>5410.0</td>\n",
       "      <td>8.2</td>\n",
       "      <td>8.125437</td>\n",
       "    </tr>\n",
       "    <tr>\n",
       "      <th>40251</th>\n",
       "      <td>Your Name.</td>\n",
       "      <td>1030.0</td>\n",
       "      <td>8.5</td>\n",
       "      <td>8.110659</td>\n",
       "    </tr>\n",
       "    <tr>\n",
       "      <th>289</th>\n",
       "      <td>Leon: The Professional</td>\n",
       "      <td>4293.0</td>\n",
       "      <td>8.2</td>\n",
       "      <td>8.106734</td>\n",
       "    </tr>\n",
       "    <tr>\n",
       "      <th>3030</th>\n",
       "      <td>The Green Mile</td>\n",
       "      <td>4166.0</td>\n",
       "      <td>8.2</td>\n",
       "      <td>8.103996</td>\n",
       "    </tr>\n",
       "    <tr>\n",
       "      <th>1170</th>\n",
       "      <td>GoodFellas</td>\n",
       "      <td>3211.0</td>\n",
       "      <td>8.2</td>\n",
       "      <td>8.076798</td>\n",
       "    </tr>\n",
       "  </tbody>\n",
       "</table>\n",
       "</div>"
      ],
      "text/plain": [
       "                                 Title  Vote count  Vote average     Score\n",
       "314           The Shawshank Redemption      8358.0           8.5  8.445608\n",
       "834                      The Godfather      6024.0           8.5  8.425078\n",
       "10309      Dilwale Dulhania Le Jayenge       661.0           9.1  8.418739\n",
       "12481                  The Dark Knight     12269.0           8.3  8.265298\n",
       "2843                        Fight Club      9678.0           8.3  8.256158\n",
       "292                       Pulp Fiction      8670.0           8.3  8.251153\n",
       "522                   Schindler's List      4436.0           8.3  8.206154\n",
       "23673                         Whiplash      4376.0           8.3  8.204913\n",
       "5481                     Spirited Away      3968.0           8.3  8.195515\n",
       "2211                 Life Is Beautiful      3643.0           8.3  8.186586\n",
       "1178            The Godfather: Part II      3418.0           8.3  8.179454\n",
       "1152   One Flew Over the Cuckoo's Nest      3001.0           8.3  8.163551\n",
       "351                       Forrest Gump      8147.0           8.2  8.150004\n",
       "1154           The Empire Strikes Back      5998.0           8.2  8.132557\n",
       "1176                            Psycho      2405.0           8.3  8.131846\n",
       "18465                 The Intouchables      5410.0           8.2  8.125437\n",
       "40251                       Your Name.      1030.0           8.5  8.110659\n",
       "289             Leon: The Professional      4293.0           8.2  8.106734\n",
       "3030                    The Green Mile      4166.0           8.2  8.103996\n",
       "1170                        GoodFellas      3211.0           8.2  8.076798"
      ]
     },
     "execution_count": 52,
     "metadata": {},
     "output_type": "execute_result"
    }
   ],
   "source": [
    "Movie_data1 = movie_data1.sort_values('Score', ascending=False)\n",
    "Movie_data1[['Title','Vote count','Vote average','Score']].head(20)"
   ]
  },
  {
   "cell_type": "markdown",
   "metadata": {},
   "source": [
    "**This conclude that simple recommender is more accurate in scoring without removal of outliers** "
   ]
  },
  {
   "cell_type": "markdown",
   "metadata": {},
   "source": [
    "## Content-Based Recommender - Update in progress"
   ]
  },
  {
   "cell_type": "code",
   "execution_count": null,
   "metadata": {},
   "outputs": [],
   "source": []
  }
 ],
 "metadata": {
  "kernelspec": {
   "display_name": "Python 3",
   "language": "python",
   "name": "python3"
  },
  "language_info": {
   "codemirror_mode": {
    "name": "ipython",
    "version": 3
   },
   "file_extension": ".py",
   "mimetype": "text/x-python",
   "name": "python",
   "nbconvert_exporter": "python",
   "pygments_lexer": "ipython3",
   "version": "3.8.5"
  },
  "toc": {
   "base_numbering": 1,
   "nav_menu": {},
   "number_sections": true,
   "sideBar": true,
   "skip_h1_title": true,
   "title_cell": "Table of Contents",
   "title_sidebar": "Contents",
   "toc_cell": false,
   "toc_position": {},
   "toc_section_display": true,
   "toc_window_display": false
  }
 },
 "nbformat": 4,
 "nbformat_minor": 4
}
